{
 "cells": [
  {
   "cell_type": "code",
   "execution_count": 1,
   "metadata": {},
   "outputs": [],
   "source": [
    "import pandas as pd\r\n",
    "import os\r\n",
    "import gc\r\n",
    "\r\n",
    "\r\n",
    "\r\n",
    "\r\n",
    "def myfunction(loc):\r\n",
    "\r\n",
    "  file_loc = 'FEMA_V2/' + loc\r\n",
    "  with open(file_loc) as f:\r\n",
    "    df=pd.read_csv(f, delimiter=',',chunksize=1000000, low_memory= False )\r\n",
    "\r\n",
    "    for i in df:\r\n",
    "  \r\n",
    "      if(\"disasterNumber\" in i.columns):\r\n",
    "        containsKatrina_1603 = 1603 in i[\"disasterNumber\"]\r\n",
    "        containsKatrina_3212 = 3212 in i[\"disasterNumber\"]\r\n",
    "\r\n",
    "        if(containsKatrina_1603 or containsKatrina_3212):\r\n",
    "          del(df)\r\n",
    "          gc.collect()\r\n",
    "          df=pd.DataFrame()\r\n",
    "          return file_loc,containsKatrina_1603,containsKatrina_3212\r\n",
    "        \r\n",
    "      else:\r\n",
    "        containsKatrina_1603 = False\r\n",
    "        containsKatrina_3212 = False\r\n",
    "        del(df)\r\n",
    "        gc.collect()\r\n",
    "        df=pd.DataFrame()\r\n",
    "        return file_loc,containsKatrina_1603,containsKatrina_3212\r\n",
    "\r\n",
    "    \r\n",
    "  return file_loc,containsKatrina_1603,containsKatrina_3212\r\n",
    "\r\n",
    "\r\n",
    "containsKatrina = []\r\n",
    "\r\n",
    "\r\n",
    "for file in os.listdir('FEMA_V2'):\r\n",
    "  if file.endswith(\".csv\"):\r\n",
    "    res = myfunction(file)\r\n",
    "\r\n",
    "    if(res[1] or res[2]):\r\n",
    "        \r\n",
    "      containsKatrina.append(res[0].split(\"/\")[1])\r\n",
    "\r\n",
    "\r\n",
    "\r\n"
   ]
  },
  {
   "cell_type": "code",
   "execution_count": 2,
   "metadata": {},
   "outputs": [
    {
     "name": "stdout",
     "output_type": "stream",
     "text": [
      "['DisasterDeclarationsSummaries.csv', 'FemaWebDeclarationAreas.csv', 'FemaWebDisasterDeclarations.csv', 'FemaWebDisasterSummaries.csv', 'HazardMitigationAssistanceMitigatedProperties.csv', 'HazardMitigationAssistanceProjects.csv', 'HazardMitigationGrantProgramDisasterSummaries.csv', 'HousingAssistanceOwners.csv', 'HousingAssistanceRenters.csv', 'IndividualAssistanceHousingRegistrantsLargeDisasters.csv', 'IndividualsAndHouseholdsProgramValidRegistrations.csv', 'MissionAssignments.csv', 'PublicAssistanceApplicants.csv', 'PublicAssistanceApplicantsProgramDeliveries.csv', 'PublicAssistanceFundedProjectsSummaries.csv', 'RegistrationIntakeIndividualsHouseholdPrograms.csv']\n"
     ]
    }
   ],
   "source": [
    "print(containsKatrina)"
   ]
  },
  {
   "cell_type": "code",
   "execution_count": 1,
   "metadata": {},
   "outputs": [],
   "source": [
    "import pandas as pd\r\n",
    "import gc\r\n",
    "\r\n",
    "def onlyKat(loc):\r\n",
    "    \r\n",
    "  file_loc = 'FEMA_V2/' + loc\r\n",
    "  with open(file_loc) as f:\r\n",
    "    df=pd.read_csv(f, delimiter=',', low_memory= False )\r\n",
    "    code_a = df[df[\"disasterNumber\"] == 1603]\r\n",
    "    code_b = df[df[\"disasterNumber\"] == 3212] \r\n",
    "    code_ab = pd.concat([code_a,code_b])\r\n",
    "\r\n",
    "    del(df)\r\n",
    "    gc.collect()\r\n",
    "    df=pd.DataFrame()\r\n",
    "\r\n",
    "    return code_ab\r\n",
    "    \r\n",
    "\r\n",
    "filez = ['PublicAssistanceApplicantsProgramDeliveries.csv']\r\n",
    "\r\n",
    "\r\n",
    "#file = \"IndividualsAndHouseholdsProgramValidRegistrations.csv\"\r\n",
    "for file in filez:\r\n",
    "  outputfile = file.split(\".\")[0] + \"katOnly.csv\"\r\n",
    "  onlyKat(file).to_csv(outputfile, index=False)\r\n",
    "      \r\n",
    "      \r\n",
    "\r\n",
    "    "
   ]
  },
  {
   "cell_type": "code",
   "execution_count": 5,
   "metadata": {},
   "outputs": [
    {
     "data": {
      "text/html": [
       "<div>\n",
       "<style scoped>\n",
       "    .dataframe tbody tr th:only-of-type {\n",
       "        vertical-align: middle;\n",
       "    }\n",
       "\n",
       "    .dataframe tbody tr th {\n",
       "        vertical-align: top;\n",
       "    }\n",
       "\n",
       "    .dataframe thead th {\n",
       "        text-align: right;\n",
       "    }\n",
       "</style>\n",
       "<table border=\"1\" class=\"dataframe\">\n",
       "  <thead>\n",
       "    <tr style=\"text-align: right;\">\n",
       "      <th></th>\n",
       "      <th>declarationType</th>\n",
       "      <th>disasterNumber</th>\n",
       "      <th>stateCode</th>\n",
       "      <th>stateName</th>\n",
       "      <th>declarationDate</th>\n",
       "      <th>incidentType</th>\n",
       "      <th>declarationTitle</th>\n",
       "      <th>region</th>\n",
       "      <th>consolidatedResourceCenter</th>\n",
       "      <th>countyApplicantJurisdiction</th>\n",
       "      <th>...</th>\n",
       "      <th>phase3ProjectCost</th>\n",
       "      <th>numberPhase4Projects</th>\n",
       "      <th>phase4ProjectCost</th>\n",
       "      <th>numberPhase5Projects</th>\n",
       "      <th>phase5ProjectCost</th>\n",
       "      <th>numberObligatedProjects</th>\n",
       "      <th>federalShareObligated</th>\n",
       "      <th>hash</th>\n",
       "      <th>id</th>\n",
       "      <th>lastRefresh</th>\n",
       "    </tr>\n",
       "  </thead>\n",
       "  <tbody>\n",
       "  </tbody>\n",
       "</table>\n",
       "<p>0 rows × 35 columns</p>\n",
       "</div>"
      ],
      "text/plain": [
       "Empty DataFrame\n",
       "Columns: [declarationType, disasterNumber, stateCode, stateName, declarationDate, incidentType, declarationTitle, region, consolidatedResourceCenter, countyApplicantJurisdiction, utilizingDirectApplication, applicantIdGm, applicantIdEmmie, applicantName, applicantType, isPnp, applicantStatus, applicantProcessStatus, numberActiveDamages, totalAppDamageCost, numberActiveProjects, currentProjectCost, numberPhase2Projects, phase2ProjectCost, numberPhase3Projects, phase3ProjectCost, numberPhase4Projects, phase4ProjectCost, numberPhase5Projects, phase5ProjectCost, numberObligatedProjects, federalShareObligated, hash, id, lastRefresh]\n",
       "Index: []\n",
       "\n",
       "[0 rows x 35 columns]"
      ]
     },
     "execution_count": 5,
     "metadata": {},
     "output_type": "execute_result"
    }
   ],
   "source": [
    "maybe = pd.read_csv('FEMA_V2/PublicAssistanceApplicantsProgramDeliveries.csv')\r\n",
    "maybe[maybe[\"disasterNumber\"] == 3212]"
   ]
  },
  {
   "cell_type": "code",
   "execution_count": null,
   "metadata": {},
   "outputs": [
    {
     "name": "stdout",
     "output_type": "stream",
     "text": [
      "\n",
      "12 : Now checking use of: cp852\n",
      "I can't load data for cp852 \n",
      "\n",
      "\n",
      "13 : Now checking use of: cp855\n",
      "I can't load data for cp855 \n",
      "\n",
      "\n",
      "14 : Now checking use of: cp856\n",
      "I can't load data for cp856 \n",
      "\n",
      "\n",
      "15 : Now checking use of: cp857\n",
      "I can't load data for cp857 \n",
      "\n",
      "\n",
      "16 : Now checking use of: cp858\n",
      "I can't load data for cp858 \n",
      "\n",
      "\n",
      "17 : Now checking use of: cp860\n",
      "I can't load data for cp860 \n",
      "\n",
      "\n",
      "18 : Now checking use of: cp861\n",
      "I can't load data for cp861 \n",
      "\n"
     ]
    }
   ],
   "source": [
    "\r\n",
    "\r\n",
    "\r\n",
    "codecs = ['ascii','big5','big5hkscs','cp037','cp273','cp424','cp437','cp500','cp720','cp737','cp775','cp850','cp852','cp855',\r\n",
    "          'cp856','cp857','cp858','cp860','cp861','cp862','cp863','cp864','cp865','cp866','cp869','cp874','cp875','cp932','cp949',\r\n",
    "          'cp950','cp1006','cp1026','cp1125','cp1140','cp1250','cp1251','cp1252','cp1253','cp1254','cp1255','cp1256','cp1257','cp1258',\r\n",
    "          'euc_jp','euc_jis_2004','euc_jisx0213','euc_kr','gb2312','gbk','gb18030','hz','iso2022_jp','iso2022_jp_1','iso2022_jp_2',\r\n",
    "          'iso2022_jp_2004','iso2022_jp_3','iso2022_jp_ext','iso2022_kr','latin_1','iso8859_2','iso8859_3','iso8859_4','iso8859_5','iso8859_6',\r\n",
    "          'iso8859_7','iso8859_8','iso8859_9','iso8859_10','iso8859_11','iso8859_13','iso8859_14','iso8859_15','iso8859_16','johab','koi8_r','koi8_t',\r\n",
    "          'koi8_u','kz1048','mac_cyrillic','mac_greek','mac_iceland','mac_latin2','mac_roman','mac_turkish','ptcp154','shift_jis','shift_jis_2004',\r\n",
    "          'shift_jisx0213','utf_32','utf_32_be','utf_32_le','utf_16','utf_16_be','utf_16_le','utf_7','utf_8','utf_8_sig']\r\n",
    "\r\n",
    "for x in range(len(codecs)):\r\n",
    "    print(x,': Now checking use of:', codecs[x])\r\n",
    "    try:\r\n",
    "        df = pd.read_csv('PublicAssistanceFundedProjectsDetails.csv', header = 0, encoding = (codecs[x]), delimiter=',')\r\n",
    "        print(df.info())\r\n",
    "        print(input('Press any key...'))\r\n",
    "    except:\r\n",
    "        print('I can\\'t load data for', codecs[x], '\\n')\r\n",
    "        print(input('Press any key...'))\r\n",
    "\r\n",
    "\r\n"
   ]
  },
  {
   "cell_type": "code",
   "execution_count": null,
   "metadata": {},
   "outputs": [],
   "source": [
    "!pip3 install --upgrade pandas --user"
   ]
  },
  {
   "cell_type": "code",
   "execution_count": null,
   "metadata": {},
   "outputs": [],
   "source": [
    "import pandas as pd\r\n",
    "\r\n",
    "pd.__version__"
   ]
  },
  {
   "cell_type": "code",
   "execution_count": null,
   "metadata": {},
   "outputs": [],
   "source": [
    "import pandas as pd\r\n",
    "\r\n",
    "encoding_list = ['ascii', 'big5', 'big5hkscs', 'cp037', 'cp273', 'cp424', 'cp437', 'cp500', 'cp720', 'cp737'\r\n",
    "                 , 'cp775', 'cp850', 'cp852', 'cp855', 'cp856', 'cp857', 'cp858', 'cp860', 'cp861', 'cp862'\r\n",
    "                 , 'cp863', 'cp864', 'cp865', 'cp866', 'cp869', 'cp874', 'cp875', 'cp932', 'cp949', 'cp950'\r\n",
    "                 , 'cp1006', 'cp1026', 'cp1125', 'cp1140', 'cp1250', 'cp1251', 'cp1252', 'cp1253', 'cp1254'\r\n",
    "                 , 'cp1255', 'cp1256', 'cp1257', 'cp1258', 'euc_jp', 'euc_jis_2004', 'euc_jisx0213', 'euc_kr'\r\n",
    "                 , 'gb2312', 'gbk', 'gb18030', 'hz', 'iso2022_jp', 'iso2022_jp_1', 'iso2022_jp_2'\r\n",
    "                 , 'iso2022_jp_2004', 'iso2022_jp_3', 'iso2022_jp_ext', 'iso2022_kr', 'latin_1', 'iso8859_2'\r\n",
    "                 , 'iso8859_3', 'iso8859_4', 'iso8859_5', 'iso8859_6', 'iso8859_7', 'iso8859_8', 'iso8859_9'\r\n",
    "                 , 'iso8859_10', 'iso8859_11', 'iso8859_13', 'iso8859_14', 'iso8859_15', 'iso8859_16', 'johab'\r\n",
    "                 , 'koi8_r', 'koi8_t', 'koi8_u', 'kz1048', 'mac_cyrillic', 'mac_greek', 'mac_iceland', 'mac_latin2'\r\n",
    "                 , 'mac_roman', 'mac_turkish', 'ptcp154', 'shift_jis', 'shift_jis_2004', 'shift_jisx0213', 'utf_32'\r\n",
    "                 , 'utf_32_be', 'utf_32_le', 'utf_16', 'utf_16_be', 'utf_16_le', 'utf_7', 'utf_8', 'utf_8_sig']\r\n",
    "\r\n",
    "path = 'FEMA_V2/PublicAssistanceFundedProjectsDetails.csv'\r\n",
    "\r\n",
    "\r\n",
    "yes = []\r\n",
    "\r\n",
    "for encoding in encoding_list:\r\n",
    "    worked = True\r\n",
    "    try:\r\n",
    "        df = pd.read_csv(path, encoding=encoding)\r\n",
    "        del(df)\r\n",
    "        gc.collect()\r\n",
    "        df=pd.DataFrame()\r\n",
    "    except:\r\n",
    "        worked = False\r\n",
    "    if worked:\r\n",
    "        yes.append(encoding)\r\n",
    "    print(encoding)\r\n",
    "\r\n",
    "    \r\n",
    "\r\n",
    "\r\n",
    "print(yes)"
   ]
  },
  {
   "cell_type": "code",
   "execution_count": null,
   "metadata": {},
   "outputs": [],
   "source": [
    "test = {}\r\n",
    "\r\n",
    "test[\"a\"] = [\"1\",\"2\"]\r\n",
    "test[\"b\"] = [\"1\"]\r\n",
    "\r\n",
    "test"
   ]
  }
 ],
 "metadata": {
  "interpreter": {
   "hash": "36320f650cccab4cb811603366fb53ee4e0bcdec28594c38ee04030a0609cff4"
  },
  "kernelspec": {
   "display_name": "Python 3.8.5 64-bit",
   "name": "python3"
  },
  "language_info": {
   "codemirror_mode": {
    "name": "ipython",
    "version": 3
   },
   "file_extension": ".py",
   "mimetype": "text/x-python",
   "name": "python",
   "nbconvert_exporter": "python",
   "pygments_lexer": "ipython3",
   "version": "3.8.5"
  },
  "orig_nbformat": 4
 },
 "nbformat": 4,
 "nbformat_minor": 2
}